{
 "cells": [
  {
   "cell_type": "code",
   "execution_count": 1,
   "id": "57e49c76",
   "metadata": {},
   "outputs": [],
   "source": [
    "from ultralytics import YOLO\n",
    "import cv2\n",
    "import math\n",
    "import os\n",
    "\n",
    "\n",
    "\n",
    "\n",
    "from telegram import Bot\n",
    "import requests"
   ]
  },
  {
   "cell_type": "code",
   "execution_count": 2,
   "id": "884e5d14",
   "metadata": {},
   "outputs": [],
   "source": [
    "def alert(l):\n",
    "    token ="",
    "    chat_id="",
    "    # Initialize Telegram Bot\n",
    "    message='Alert!!!!Wear {} immediately!!!!'.format(l)\n",
    "    url = f\"https://api.telegram.org/bot{token}/sendMessage?chat_id={chat_id}&text={message}\"\n",
    "    r=requests.get(url)\n",
    "    print(r.json())"
   ]
  },
  {
   "cell_type": "code",
   "execution_count": 4,
   "id": "d7dc9904",
   "metadata": {},
   "outputs": [],
   "source": [
    "model = YOLO(\"C:\\\\Users\\\\allen\\\\Desktop\\\\Ai\\\\ppeinput\\\\finalpt.pt\")"
   ]
  },
  {
   "cell_type": "code",
   "execution_count": 16,
   "id": "8f01a4aa",
   "metadata": {},
   "outputs": [],
   "source": [
    "cap = cv2.VideoCapture(0) "
   ]
  },
  {
   "cell_type": "code",
   "execution_count": 17,
   "id": "29d9188e",
   "metadata": {},
   "outputs": [
    {
     "name": "stdout",
     "output_type": "stream",
     "text": [
      "\n",
      "0: 480x640 1 NO-Hardhat, 1 NO-Mask, 1 NO-Safety Vest, 1 Person, 821.4ms\n",
      "{'ok': True, 'result': {'message_id': 634, 'from': {'id': 7091226766, 'is_bot': True, 'first_name': 'SafetyGear', 'username': 'safety_gear_bot'}, 'chat': {'id': 1960529010, 'first_name': 'Allen', 'last_name': 'Roy', 'type': 'private'}, 'date': 1725953428, 'text': 'Alert!!!!Wear Mask immediately!!!!'}}\n",
      "{'ok': True, 'result': {'message_id': 635, 'from': {'id': 7091226766, 'is_bot': True, 'first_name': 'SafetyGear', 'username': 'safety_gear_bot'}, 'chat': {'id': 1960529010, 'first_name': 'Allen', 'last_name': 'Roy', 'type': 'private'}, 'date': 1725953429, 'text': 'Alert!!!!Wear Mask immediately!!!!'}}\n",
      "{'ok': True, 'result': {'message_id': 636, 'from': {'id': 7091226766, 'is_bot': True, 'first_name': 'SafetyGear', 'username': 'safety_gear_bot'}, 'chat': {'id': 1960529010, 'first_name': 'Allen', 'last_name': 'Roy', 'type': 'private'}, 'date': 1725953430, 'text': 'Alert!!!!Wear Hardhat immediately!!!!'}}\n",
      "{'ok': True, 'result': {'message_id': 637, 'from': {'id': 7091226766, 'is_bot': True, 'first_name': 'SafetyGear', 'username': 'safety_gear_bot'}, 'chat': {'id': 1960529010, 'first_name': 'Allen', 'last_name': 'Roy', 'type': 'private'}, 'date': 1725953431, 'text': 'Alert!!!!Wear Safety Vest immediately!!!!'}}\n",
      "Speed: 25.6ms preprocess, 821.4ms inference, 4.0ms postprocess per image at shape (1, 3, 480, 640)\n",
      "\n",
      "0: 480x640 1 NO-Hardhat, 1 NO-Mask, 1 NO-Safety Vest, 1 Person, 170.9ms\n",
      "{'ok': True, 'result': {'message_id': 638, 'from': {'id': 7091226766, 'is_bot': True, 'first_name': 'SafetyGear', 'username': 'safety_gear_bot'}, 'chat': {'id': 1960529010, 'first_name': 'Allen', 'last_name': 'Roy', 'type': 'private'}, 'date': 1725953432, 'text': 'Alert!!!!Wear Safety Vest immediately!!!!'}}\n",
      "{'ok': True, 'result': {'message_id': 639, 'from': {'id': 7091226766, 'is_bot': True, 'first_name': 'SafetyGear', 'username': 'safety_gear_bot'}, 'chat': {'id': 1960529010, 'first_name': 'Allen', 'last_name': 'Roy', 'type': 'private'}, 'date': 1725953432, 'text': 'Alert!!!!Wear Mask immediately!!!!'}}\n",
      "{'ok': True, 'result': {'message_id': 640, 'from': {'id': 7091226766, 'is_bot': True, 'first_name': 'SafetyGear', 'username': 'safety_gear_bot'}, 'chat': {'id': 1960529010, 'first_name': 'Allen', 'last_name': 'Roy', 'type': 'private'}, 'date': 1725953433, 'text': 'Alert!!!!Wear Hardhat immediately!!!!'}}\n",
      "{'ok': True, 'result': {'message_id': 641, 'from': {'id': 7091226766, 'is_bot': True, 'first_name': 'SafetyGear', 'username': 'safety_gear_bot'}, 'chat': {'id': 1960529010, 'first_name': 'Allen', 'last_name': 'Roy', 'type': 'private'}, 'date': 1725953434, 'text': 'Alert!!!!Wear Safety Vest immediately!!!!'}}\n",
      "Speed: 5.4ms preprocess, 170.9ms inference, 1.0ms postprocess per image at shape (1, 3, 480, 640)\n",
      "\n",
      "0: 480x640 1 NO-Hardhat, 1 NO-Mask, 1 NO-Safety Vest, 1 Person, 169.9ms\n",
      "{'ok': True, 'result': {'message_id': 642, 'from': {'id': 7091226766, 'is_bot': True, 'first_name': 'SafetyGear', 'username': 'safety_gear_bot'}, 'chat': {'id': 1960529010, 'first_name': 'Allen', 'last_name': 'Roy', 'type': 'private'}, 'date': 1725953435, 'text': 'Alert!!!!Wear Mask immediately!!!!'}}\n",
      "{'ok': True, 'result': {'message_id': 643, 'from': {'id': 7091226766, 'is_bot': True, 'first_name': 'SafetyGear', 'username': 'safety_gear_bot'}, 'chat': {'id': 1960529010, 'first_name': 'Allen', 'last_name': 'Roy', 'type': 'private'}, 'date': 1725953436, 'text': 'Alert!!!!Wear Mask immediately!!!!'}}\n",
      "{'ok': True, 'result': {'message_id': 644, 'from': {'id': 7091226766, 'is_bot': True, 'first_name': 'SafetyGear', 'username': 'safety_gear_bot'}, 'chat': {'id': 1960529010, 'first_name': 'Allen', 'last_name': 'Roy', 'type': 'private'}, 'date': 1725953437, 'text': 'Alert!!!!Wear Hardhat immediately!!!!'}}\n",
      "{'ok': True, 'result': {'message_id': 645, 'from': {'id': 7091226766, 'is_bot': True, 'first_name': 'SafetyGear', 'username': 'safety_gear_bot'}, 'chat': {'id': 1960529010, 'first_name': 'Allen', 'last_name': 'Roy', 'type': 'private'}, 'date': 1725953437, 'text': 'Alert!!!!Wear Safety Vest immediately!!!!'}}\n",
      "Speed: 5.1ms preprocess, 169.9ms inference, 0.0ms postprocess per image at shape (1, 3, 480, 640)\n",
      "\n",
      "0: 480x640 1 NO-Hardhat, 1 NO-Mask, 1 NO-Safety Vest, 1 Person, 149.1ms\n",
      "{'ok': True, 'result': {'message_id': 646, 'from': {'id': 7091226766, 'is_bot': True, 'first_name': 'SafetyGear', 'username': 'safety_gear_bot'}, 'chat': {'id': 1960529010, 'first_name': 'Allen', 'last_name': 'Roy', 'type': 'private'}, 'date': 1725953439, 'text': 'Alert!!!!Wear Safety Vest immediately!!!!'}}\n",
      "{'ok': True, 'result': {'message_id': 647, 'from': {'id': 7091226766, 'is_bot': True, 'first_name': 'SafetyGear', 'username': 'safety_gear_bot'}, 'chat': {'id': 1960529010, 'first_name': 'Allen', 'last_name': 'Roy', 'type': 'private'}, 'date': 1725953439, 'text': 'Alert!!!!Wear Mask immediately!!!!'}}\n",
      "{'ok': True, 'result': {'message_id': 648, 'from': {'id': 7091226766, 'is_bot': True, 'first_name': 'SafetyGear', 'username': 'safety_gear_bot'}, 'chat': {'id': 1960529010, 'first_name': 'Allen', 'last_name': 'Roy', 'type': 'private'}, 'date': 1725953440, 'text': 'Alert!!!!Wear Safety Vest immediately!!!!'}}\n",
      "{'ok': True, 'result': {'message_id': 649, 'from': {'id': 7091226766, 'is_bot': True, 'first_name': 'SafetyGear', 'username': 'safety_gear_bot'}, 'chat': {'id': 1960529010, 'first_name': 'Allen', 'last_name': 'Roy', 'type': 'private'}, 'date': 1725953441, 'text': 'Alert!!!!Wear Hardhat immediately!!!!'}}\n",
      "Speed: 3.5ms preprocess, 149.1ms inference, 1.0ms postprocess per image at shape (1, 3, 480, 640)\n",
      "\n",
      "0: 480x640 1 NO-Hardhat, 1 NO-Mask, 1 NO-Safety Vest, 1 Person, 137.4ms\n",
      "{'ok': True, 'result': {'message_id': 650, 'from': {'id': 7091226766, 'is_bot': True, 'first_name': 'SafetyGear', 'username': 'safety_gear_bot'}, 'chat': {'id': 1960529010, 'first_name': 'Allen', 'last_name': 'Roy', 'type': 'private'}, 'date': 1725953442, 'text': 'Alert!!!!Wear Hardhat immediately!!!!'}}\n",
      "{'ok': True, 'result': {'message_id': 651, 'from': {'id': 7091226766, 'is_bot': True, 'first_name': 'SafetyGear', 'username': 'safety_gear_bot'}, 'chat': {'id': 1960529010, 'first_name': 'Allen', 'last_name': 'Roy', 'type': 'private'}, 'date': 1725953443, 'text': 'Alert!!!!Wear Safety Vest immediately!!!!'}}\n",
      "{'ok': True, 'result': {'message_id': 652, 'from': {'id': 7091226766, 'is_bot': True, 'first_name': 'SafetyGear', 'username': 'safety_gear_bot'}, 'chat': {'id': 1960529010, 'first_name': 'Allen', 'last_name': 'Roy', 'type': 'private'}, 'date': 1725953444, 'text': 'Alert!!!!Wear Mask immediately!!!!'}}\n",
      "{'ok': True, 'result': {'message_id': 653, 'from': {'id': 7091226766, 'is_bot': True, 'first_name': 'SafetyGear', 'username': 'safety_gear_bot'}, 'chat': {'id': 1960529010, 'first_name': 'Allen', 'last_name': 'Roy', 'type': 'private'}, 'date': 1725953444, 'text': 'Alert!!!!Wear Hardhat immediately!!!!'}}\n",
      "Speed: 4.1ms preprocess, 137.4ms inference, 1.0ms postprocess per image at shape (1, 3, 480, 640)\n",
      "\n",
      "0: 480x640 1 NO-Hardhat, 1 vehicle, 156.1ms\n"
     ]
    },
    {
     "ename": "IndexError",
     "evalue": "list index out of range",
     "output_type": "error",
     "traceback": [
      "\u001b[1;31m---------------------------------------------------------------------------\u001b[0m",
      "\u001b[1;31mIndexError\u001b[0m                                Traceback (most recent call last)",
      "Cell \u001b[1;32mIn[17], line 23\u001b[0m\n\u001b[0;32m     21\u001b[0m conf \u001b[38;5;241m=\u001b[39m math\u001b[38;5;241m.\u001b[39mceil((box\u001b[38;5;241m.\u001b[39mconf[\u001b[38;5;241m0\u001b[39m] \u001b[38;5;241m*\u001b[39m \u001b[38;5;241m100\u001b[39m)) \u001b[38;5;241m/\u001b[39m \u001b[38;5;241m100\u001b[39m\n\u001b[0;32m     22\u001b[0m \u001b[38;5;28mcls\u001b[39m \u001b[38;5;241m=\u001b[39m \u001b[38;5;28mint\u001b[39m(box\u001b[38;5;241m.\u001b[39mcls[\u001b[38;5;241m0\u001b[39m])\n\u001b[1;32m---> 23\u001b[0m currentClass \u001b[38;5;241m=\u001b[39m classNames[\u001b[38;5;28mcls\u001b[39m]\n\u001b[0;32m     26\u001b[0m \u001b[38;5;28;01mif\u001b[39;00m conf \u001b[38;5;241m>\u001b[39m \u001b[38;5;241m0.5\u001b[39m:\n\u001b[0;32m     27\u001b[0m     \u001b[38;5;28;01mif\u001b[39;00m currentClass \u001b[38;5;129;01min\u001b[39;00m [\u001b[38;5;124m'\u001b[39m\u001b[38;5;124mNO-Hardhat\u001b[39m\u001b[38;5;124m'\u001b[39m, \u001b[38;5;124m'\u001b[39m\u001b[38;5;124mNO-Safety Vest\u001b[39m\u001b[38;5;124m'\u001b[39m, \u001b[38;5;124m'\u001b[39m\u001b[38;5;124mNO-Mask\u001b[39m\u001b[38;5;124m'\u001b[39m]:\n",
      "\u001b[1;31mIndexError\u001b[0m: list index out of range"
     ]
    }
   ],
   "source": [
    "classNames = [ 'Hardhat', 'Mask', 'NO-Hardhat', 'NO-Mask',\n",
    "              'NO-Safety Vest', 'Person', 'Safety Cone', 'Safety Vest']\n",
    "reason=\"\"\n",
    "while True:\n",
    "    \n",
    "    success, img = cap.read()\n",
    "    if not success:\n",
    "        break\n",
    "\n",
    "    \n",
    "    results = model(img, stream=True)\n",
    "\n",
    "    \n",
    "    for r in results:\n",
    "        boxes = r.boxes\n",
    "        for box in boxes:\n",
    "            x1, y1, x2, y2 = box.xyxy[0]\n",
    "            x1, y1, x2, y2 = int(x1), int(y1), int(x2), int(y2)\n",
    "\n",
    "            \n",
    "            conf = math.ceil((box.conf[0] * 100)) / 100\n",
    "            cls = int(box.cls[0])\n",
    "            currentClass = classNames[cls]\n",
    "\n",
    "            \n",
    "            if conf > 0.5:\n",
    "                if currentClass in ['NO-Hardhat', 'NO-Safety Vest', 'NO-Mask']:\n",
    "                    reason = currentClass.split('-')[1]  # Extract reason (e.g., \"No Hardhat\")\n",
    "                    cv2.putText(img, f'{reason} ({conf})', (x1, y1 - 10),\n",
    "                                cv2.FONT_HERSHEY_SIMPLEX, 0.5, (0, 0, 255), 2)\n",
    "                    cv2.rectangle(img, (x1, y1), (x2, y2), (0, 0, 255), 2)\n",
    "                else:\n",
    "                    cv2.rectangle(img, (x1, y1), (x2, y2), (0, 255, 0), 2)\n",
    "                alert(reason)\n",
    "\n",
    "    \n",
    "    cv2.imshow(\"Live Detection\", img)\n",
    "     \n",
    "   \n",
    "    \n",
    "    key = cv2.waitKey(1)\n",
    "    if key == ord(\"q\") or key == ord(\"Q\"):\n",
    "        break\n",
    "\n",
    "\n",
    "cap.release()\n",
    "cv2.destroyAllWindows()\n"
   ]
  },
  {
   "cell_type": "code",
   "execution_count": null,
   "id": "9cef5c9b",
   "metadata": {},
   "outputs": [],
   "source": [
    "q"
   ]
  }
 ],
 "metadata": {
  "kernelspec": {
   "display_name": "Python 3 (ipykernel)",
   "language": "python",
   "name": "python3"
  },
  "language_info": {
   "codemirror_mode": {
    "name": "ipython",
    "version": 3
   },
   "file_extension": ".py",
   "mimetype": "text/x-python",
   "name": "python",
   "nbconvert_exporter": "python",
   "pygments_lexer": "ipython3",
   "version": "3.11.5"
  }
 },
 "nbformat": 4,
 "nbformat_minor": 5
}
